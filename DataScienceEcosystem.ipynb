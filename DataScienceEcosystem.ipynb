{
 "cells": [
  {
   "cell_type": "markdown",
   "metadata": {},
   "source": [
    "<center>\n",
    "    <img src=\"https://cf-courses-data.s3.us.cloud-object-storage.appdomain.cloud/IBMDeveloperSkillsNetwork-DS0105EN-SkillsNetwork/labs/Module2/images/SN_web_lightmode.png\" width=\"300\" alt=\"cognitiveclass.ai logo\">\n",
    "</center>\n"
   ]
  },
  {
   "cell_type": "markdown",
   "metadata": {},
   "source": [
    "#### Add your code below following the instructions given in the course\n"
   ]
  },
  {
   "cell_type": "markdown",
   "metadata": {},
   "source": [
    "**exercise no.1-- rename the file**"
   ]
  },
  {
   "cell_type": "markdown",
   "metadata": {},
   "source": [
    "# Data Science Tools and Ecosystem \n",
    "**exercise no. 2**"
   ]
  },
  {
   "cell_type": "markdown",
   "metadata": {},
   "source": [
    "*In this notebook, Data Science tools and Ecosystem are summarized by covering standard libraries and computing languages like Python,R language etc used by Data Scientists.*"
   ]
  },
  {
   "cell_type": "markdown",
   "metadata": {},
   "source": [
    "*exercise no.10*\n",
    "#### some key topics that are covered in the Tools for Data Science course are:\n",
    "**Objectives:**\n",
    "- Popular computing languages like Python etc.\n",
    "- Jupyter notebook introduction and how to use.\n",
    "- IBM WATSON STUDIO introduction \n",
    "- Git and GitHub introduction and account creation \n",
    "- Development environment open source tools\n",
    "- Common libraries used such as Numpy,Pandas etc.\n"
   ]
  },
  {
   "cell_type": "markdown",
   "metadata": {},
   "source": [
    "#### some key topics that are covered in the Tools for Data Science course are:\n",
    "**Objectives:**\n",
    "- Popular computing languages:\n",
    "1. Python \n",
    "2. R language \n",
    "3. Scala\n",
    "4. Julia\n",
    "- Jupyter notebook introduction and how to use.\n",
    "- IBM WATSON STUDIO introduction \n",
    "- Git and Github introduction and account creation \n",
    "- Development environment open source tools\n",
    "- Common libraries used such as Numpy,Pandas etc.\n"
   ]
  },
  {
   "cell_type": "markdown",
   "metadata": {},
   "source": [
    "**exercise no.4** *Some of the popular languages used  by Data Scientists are:*\n",
    "1. Python- open source.\n",
    "2. R language \n",
    "3. Java\n",
    "4. Julia\n",
    "5. Scala"
   ]
  },
  {
   "cell_type": "markdown",
   "metadata": {},
   "source": [
    "**exercise no.5**\n",
    "*some of the commonly used libraries used by Data Scientists are*\n",
    "1. Numpy- for array computation. \n",
    "2. Pandas- for creating data frames. \n",
    "3. Matplotlib- for data visualization \n",
    "4. TensorFlow\n",
    "5. Keras\n"
   ]
  },
  {
   "cell_type": "markdown",
   "metadata": {},
   "source": [
    "**exercise no.6**\n",
    "|Data Science Tools |\n",
    "|-------------------|\n",
    "| Apache Spark |\n",
    "| TensorFlow |\n",
    "| Apache Hadoop|"
   ]
  },
  {
   "cell_type": "markdown",
   "metadata": {},
   "source": [
    "**exercise no.7**\n",
    "### Following are the few examples of evaluating arithmetic expressions in Python.\n",
    "1. addition- \n",
    "$a+b$\n",
    "2. subtraction-\n",
    "$a-b$\n",
    "3. division-\n",
    "$a/b$\n",
    "4. $a//b$\n",
    "5. exponent-\n",
    "$a^b$\n",
    "6. multiplication\n",
    " $ab$\n"
   ]
  },
  {
   "cell_type": "code",
   "execution_count": 3,
   "metadata": {
    "tags": []
   },
   "outputs": [
    {
     "name": "stdout",
     "output_type": "stream",
     "text": [
      "17\n"
     ]
    }
   ],
   "source": [
    "#exercise \n",
    "# this is a simple arithmetic expression to multiple two integers and then add them\n",
    "a=3*4+5\n",
    "print(a)\n",
    "\n"
   ]
  },
  {
   "cell_type": "code",
   "execution_count": 11,
   "metadata": {
    "tags": []
   },
   "outputs": [
    {
     "name": "stdout",
     "output_type": "stream",
     "text": [
      "3.3333333333333335 hours\n",
      "3 hours\n"
     ]
    }
   ],
   "source": [
    "# this will convert 200 minutes to hours by dividing by 60.\n",
    "a=200\n",
    "b=float(a/60)\n",
    "print(b,\"hours\") \n",
    "#or by converting in int.\n",
    "c=int(a/60)\n",
    "print(c,\"hours\")"
   ]
  },
  {
   "cell_type": "markdown",
   "metadata": {},
   "source": [
    "## Author\n",
    "Harleen Kaur "
   ]
  },
  {
   "cell_type": "code",
   "execution_count": null,
   "metadata": {},
   "outputs": [],
   "source": []
  }
 ],
 "metadata": {
  "kernelspec": {
   "display_name": "Python",
   "language": "python",
   "name": "conda-env-python-py"
  },
  "language_info": {
   "codemirror_mode": {
    "name": "ipython",
    "version": 3
   },
   "file_extension": ".py",
   "mimetype": "text/x-python",
   "name": "python",
   "nbconvert_exporter": "python",
   "pygments_lexer": "ipython3",
   "version": "3.7.12"
  }
 },
 "nbformat": 4,
 "nbformat_minor": 4
}
